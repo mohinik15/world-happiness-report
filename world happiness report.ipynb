{
 "cells": [
  {
   "cell_type": "code",
   "execution_count": 1,
   "id": "612e870b",
   "metadata": {},
   "outputs": [
    {
     "ename": "ModuleNotFoundError",
     "evalue": "No module named 'joblib'",
     "output_type": "error",
     "traceback": [
      "\u001b[1;31m---------------------------------------------------------------------------\u001b[0m",
      "\u001b[1;31mModuleNotFoundError\u001b[0m                       Traceback (most recent call last)",
      "\u001b[1;32m~\\AppData\\Local\\Temp/ipykernel_10396/3275587735.py\u001b[0m in \u001b[0;36m<module>\u001b[1;34m\u001b[0m\n\u001b[0;32m      4\u001b[0m \u001b[0mwarnings\u001b[0m\u001b[1;33m.\u001b[0m\u001b[0msimplefilter\u001b[0m\u001b[1;33m(\u001b[0m\u001b[1;34m\"ignore\"\u001b[0m\u001b[1;33m)\u001b[0m\u001b[1;33m\u001b[0m\u001b[1;33m\u001b[0m\u001b[0m\n\u001b[0;32m      5\u001b[0m \u001b[1;32mimport\u001b[0m \u001b[0mpickle\u001b[0m\u001b[1;33m\u001b[0m\u001b[1;33m\u001b[0m\u001b[0m\n\u001b[1;32m----> 6\u001b[1;33m \u001b[1;32mimport\u001b[0m \u001b[0mjoblib\u001b[0m\u001b[1;33m\u001b[0m\u001b[1;33m\u001b[0m\u001b[0m\n\u001b[0m\u001b[0;32m      7\u001b[0m \u001b[1;33m\u001b[0m\u001b[0m\n\u001b[0;32m      8\u001b[0m \u001b[1;32mimport\u001b[0m \u001b[0mnumpy\u001b[0m \u001b[1;32mas\u001b[0m \u001b[0mnp\u001b[0m\u001b[1;33m\u001b[0m\u001b[1;33m\u001b[0m\u001b[0m\n",
      "\u001b[1;31mModuleNotFoundError\u001b[0m: No module named 'joblib'"
     ]
    }
   ],
   "source": [
    "# Importing all the necessary packages/libraries\n",
    "\n",
    "import warnings\n",
    "warnings.simplefilter(\"ignore\")\n",
    "import pickle\n",
    "import joblib\n",
    "\n",
    "import numpy as np\n",
    "import pandas as pd\n",
    "import seaborn as sns\n",
    "import matplotlib.pyplot as plt\n",
    "%matplotlib inline\n",
    "from math import sqrt\n",
    "from pandas_profiling import ProfileReport\n",
    "import scipy.stars as stats\n",
    "from scipy.stats import zscore\n",
    "\n",
    "from sklearn.preprocessing import PowerTransformer\n",
    "from sklearn.model_selection import train_test_split\n",
    "from sklearn.linear_model import LinearRegression\n",
    "from sklearn.svm import SVR\n",
    "from sklearn.tree import DecisionTreeRegressor\n",
    "from sklearn.ensemble import RandomForestRegressor\n",
    "\n",
    "from sklearn.metrics import r2_score\n",
    "from sklearn.metrics import mean_squared_error\n",
    "from sklearn.model_selection import cross_val_score\n",
    "from sklearn.model_selection import RandomizedSearchCV\n",
    "\n"
   ]
  },
  {
   "cell_type": "code",
   "execution_count": null,
   "id": "18a16cc5",
   "metadata": {},
   "outputs": [],
   "source": [
    "WHR_df = pd.read_csv(\"https://raw.githubusercontent.com/dsrscientist/DSData/master/happiness_score_dataset.csv\")"
   ]
  },
  {
   "cell_type": "code",
   "execution_count": null,
   "id": "e2a5fff2",
   "metadata": {},
   "outputs": [],
   "source": [
    "WHR_df"
   ]
  },
  {
   "cell_type": "code",
   "execution_count": null,
   "id": "014b9e33",
   "metadata": {},
   "outputs": [],
   "source": [
    "profile1 = ProfileReport(WHR_df, title=\"Pandas Profiling Report\", explorative=True)\n",
    "profile1.to_widgets() # Helps to get a visualization on the entire data set"
   ]
  },
  {
   "cell_type": "code",
   "execution_count": null,
   "id": "7afbf024",
   "metadata": {},
   "outputs": [],
   "source": [
    "WHR_df.shape"
   ]
  },
  {
   "cell_type": "code",
   "execution_count": null,
   "id": "cf9721d8",
   "metadata": {},
   "outputs": [],
   "source": [
    "WHR_df.isnull().sum() "
   ]
  },
  {
   "cell_type": "code",
   "execution_count": null,
   "id": "7bd9cddc",
   "metadata": {},
   "outputs": [],
   "source": [
    "WHR_df.info() "
   ]
  },
  {
   "cell_type": "code",
   "execution_count": null,
   "id": "ae90963a",
   "metadata": {},
   "outputs": [],
   "source": [
    "WHR_df.describe() "
   ]
  },
  {
   "cell_type": "code",
   "execution_count": null,
   "id": "88b78270",
   "metadata": {},
   "outputs": [],
   "source": [
    "WHR_df.columns "
   ]
  },
  {
   "cell_type": "code",
   "execution_count": null,
   "id": "789dde3f",
   "metadata": {},
   "outputs": [],
   "source": [
    "WHR_df_new = WHR_df.drop(['Country' , 'Region' , 'Happiness Rank'], axis=1) # Creating after removing useless columns"
   ]
  },
  {
   "cell_type": "code",
   "execution_count": null,
   "id": "0ba27cf5",
   "metadata": {},
   "outputs": [],
   "source": [
    "upper_triangle = np.tril(WHR_df_new.corr())\n",
    "sns.heatmap(WHR_df_new.corr(), vmin=-1, vmax=1, annot=True, annot_kws={'size':10}, cmap=\"gist_earth\", mask=upper_triangle)\n",
    "plt.show()"
   ]
  },
  {
   "cell_type": "code",
   "execution_count": null,
   "id": "e0e608e8",
   "metadata": {},
   "outputs": [],
   "source": [
    "sns.pairplot(WHR_df_new)\n",
    "plt.show()"
   ]
  },
  {
   "cell_type": "code",
   "execution_count": null,
   "id": "0d6fe67a",
   "metadata": {},
   "outputs": [],
   "source": [
    "plt.rcParams['figure.figsize'] = (20,20)\n",
    "WHR_df_new.hist(bins=20, color='maroon', density=True, label='value', histtype='bar')\n",
    "plt.tight_layout()\n",
    "plt.show()"
   ]
  },
  {
   "cell_type": "code",
   "execution_count": null,
   "id": "b52414a6",
   "metadata": {},
   "outputs": [],
   "source": [
    "WHR_df_new.skew() # Checking the skewness of columns where acceptable range is between -0.5 to 0.5 "
   ]
  },
  {
   "cell_type": "code",
   "execution_count": null,
   "id": "dc2faa5e",
   "metadata": {},
   "outputs": [],
   "source": [
    "profile2 = ProfileReport(WHR_df_new, title=\"Pandas Profiling Report\", explorative=True)\n",
    "profile2.to_notebook_iframe()"
   ]
  },
  {
   "cell_type": "code",
   "execution_count": null,
   "id": "3ebdd056",
   "metadata": {},
   "outputs": [],
   "source": [
    "# Z score method\n",
    "\n",
    "z=np.abs(zscore(WHR_df_new))\n",
    "threshold=3\n",
    "np.where(z>3)\n",
    "\n",
    "WHR_df_new1=WHR_df_new[(z<3).all(axis=1)]\n",
    "WHR_df_new1 # Creating after removing the outliers"
   ]
  },
  {
   "cell_type": "code",
   "execution_count": null,
   "id": "97596b10",
   "metadata": {},
   "outputs": [],
   "source": [
    "# Percentage of Data Loss\n",
    "\n",
    "data_loss=(158-149)/158*100 # 158 was the number of rows in original data set and 149 after the removal of outliers\n",
    "data_loss"
   ]
  },
  {
   "cell_type": "code",
   "execution_count": null,
   "id": "3050f68a",
   "metadata": {},
   "outputs": [],
   "source": [
    "X = WHR_df_new1.drop('Happiness Score', axis=1) # List of all features\n",
    "Y = WHR_df_new1['Happiness Score'] # Data of our label"
   ]
  },
  {
   "cell_type": "code",
   "execution_count": null,
   "id": "7879bb10",
   "metadata": {},
   "outputs": [],
   "source": [
    "X # Displaying the content of X"
   ]
  },
  {
   "cell_type": "code",
   "execution_count": null,
   "id": "b244090c",
   "metadata": {},
   "outputs": [],
   "source": [
    "y # Displaying the content of Y"
   ]
  },
  {
   "cell_type": "code",
   "execution_count": null,
   "id": "1a858aa0",
   "metadata": {},
   "outputs": [],
   "source": [
    "scaler = PowerTransformer(method = 'yeo-johnson')\n",
    "\n",
    "X_scaled = pd.DataFrame(scaler.fit_transform(X), columns=X.columns)"
   ]
  },
  {
   "cell_type": "code",
   "execution_count": null,
   "id": "00164101",
   "metadata": {},
   "outputs": [],
   "source": [
    "X_scaled # Displayed the feature values after applying the Power Transformer Scaler "
   ]
  },
  {
   "cell_type": "code",
   "execution_count": null,
   "id": "bf48aa5d",
   "metadata": {},
   "outputs": [],
   "source": [
    "X_train, X_test, Y_train, Y_test = train_test_split(X_scaled, Y, train_size=0.75, random_state=42, shuffle=True) "
   ]
  },
  {
   "cell_type": "code",
   "execution_count": null,
   "id": "2038d70a",
   "metadata": {},
   "outputs": [],
   "source": [
    "# Model Selection \n",
    "\n",
    "linear_model = LinearRegression()\n",
    "svr_model = SVR(c=1.0, epsilon=0.2, kernel='poly', gamma='auto')\n",
    "dtr_model = DecisionTreeRegressor(criterion=\"poisson\", random_state=111)\n",
    "rfr_model = RandomForestRegressor(max_depth=2, max_features=\"sqrt\")\n",
    "knr_model = KNeighborsRegressor(n_neighbors=2, algorithm='kd_tree')"
   ]
  },
  {
   "cell_type": "code",
   "execution_count": null,
   "id": "db567626",
   "metadata": {},
   "outputs": [],
   "source": [
    "# Training the models\n",
    "\n",
    "linear_model.fit(X_train, Y_train)\n",
    "svr_model.fit(X_train, y_train)\n",
    "dtr_model.fit(X_train, Y_train)\n",
    "rfr_model.fit(X_train, Y_train)\n",
    "knr_model.fit(X_train, Y_train)"
   ]
  },
  {
   "cell_type": "code",
   "execution_count": null,
   "id": "ed69575e",
   "metadata": {},
   "outputs": [],
   "source": [
    "# Predictions\n",
    "\n",
    "pred_linear = linear_model.predict(X_test)\n",
    "pred_svr = svr_model.predict(X_test)\n",
    "pred_dtr = dtr_model.predict(X_test)\n",
    "pred_rfr = rfr_model.predict(X_test)\n",
    "pred_knr = knr_model.predict(X_test)"
   ]
  },
  {
   "cell_type": "code",
   "execution_count": null,
   "id": "6969841b",
   "metadata": {},
   "outputs": [],
   "source": [
    "# RMSE -  a lower RMSE is better than a higher one\n",
    "\n",
    "mse_linear = mean_squared_error(Y_test, pred_linear)\n",
    "mse_svr = mean_squared_error(Y_test, pred_svr)\n",
    "mse_dtr = mean_squared_error(Y_test, pred_dtr)\n",
    "mse_rfr = mean_squared_error(Y_test, pred_rfr)\n",
    "mse_knr = mean_squared_error(Y_test, pred_knr)\n",
    "\n",
    "rmse_linear = sqrt(mse_linear)\n",
    "rmse_svr = sqrt(mse_svr)\n",
    "rmse_dtr = sqrt(mse_dtr)\n",
    "rmse_rfr = sqrt(mse_rfr)\n",
    "rmse_knr = sqrt(mse_knr)\n",
    "\n",
    "print(f\"RMSE of Linear Regression is: \", rmse_linear)\n",
    "print(f\"RMSE of Support Vector Regression is: \", rmse_svr)\n",
    "print(f\"RMSE of Decision Tree Regressor is: \", rmse_dtr)\n",
    "print(f\"RMSE of Random Forest Regressor is: \", rmse_rfr)\n",
    "print(f\"RMSE of K Neighbors Regressor is: \", rmse_knr)"
   ]
  },
  {
   "cell_type": "code",
   "execution_count": null,
   "id": "b75b1058",
   "metadata": {},
   "outputs": [],
   "source": [
    "# R2 Score for the models\n",
    "\n",
    "print(f\"R2 Score for Linear Regression is: \", r2_score(Y_test, pred_linear, multioutput='variance_weighted')*100)\n",
    "print(f\"R2 Score for Support Vector Regression is: \", r2_score(Y_test, pred_svr, multioutput='variance_weighted')*100)\n",
    "print(f\"R2 Score for Decision Tree Regressor is: \", r2_score(Y_test, pred_dtr, multioutput='variance_weighted')*100)\n",
    "print(f\"R2 Score for Random Forest Regressor is: \", r2_score(Y_test, pred_rfr, multioutput='variance_weighted')*100)\n",
    "print(f\"R2 Score for K Neighbors Regressor is: \", r2_score(Y_test, pred_knr, multioutput='variance_weighted')*100)"
   ]
  },
  {
   "cell_type": "code",
   "execution_count": null,
   "id": "50683bf7",
   "metadata": {},
   "outputs": [],
   "source": [
    "# Linear Regression \n",
    "\n",
    "lt_param = {'fit_intercept' : [True,False], 'normalize' : [True,False], 'copy_X' : [True,False], 'n_jobs' : [1,2,3,4,5,6,7,8,9,10], 'positive' : [True,False]'}"
   ]
  },
  {
   "cell_type": "code",
   "execution_count": null,
   "id": "942bc106",
   "metadata": {},
   "outputs": [],
   "source": [
    "RSCV = RandomizedSearchCV(LinearRegression(), lt_param, cv=5)"
   ]
  },
  {
   "cell_type": "code",
   "execution_count": null,
   "id": "3943fc46",
   "metadata": {},
   "outputs": [],
   "source": [
    "RSCV = fit(X_train, Y_train)"
   ]
  },
  {
   "cell_type": "code",
   "execution_count": null,
   "id": "1bde8994",
   "metadata": {},
   "outputs": [],
   "source": [
    "RSCV.best_params_"
   ]
  },
  {
   "cell_type": "code",
   "execution_count": null,
   "id": "822551b7",
   "metadata": {},
   "outputs": [],
   "source": [
    "Final_Model = LinearRegression(positive=True, normalize=True, n_jobs=10, fit_intercept=True, copy_X=True)\n",
    "Classifier = Final_Model.fit(X_train, Y_train)\n",
    "lr_pred = Final_Model.predict(X_test)\n",
    "lr_r2_score = r2_score(Y_test, lr_pred, multioutput='variance_weighted')\n",
    "print(f\"R2 score for the Final Model is:\", lr_r2_score*100)"
   ]
  },
  {
   "cell_type": "code",
   "execution_count": null,
   "id": "b21507be",
   "metadata": {},
   "outputs": [],
   "source": [
    "filename = 'FinalModel_2.pk1'\n",
    "pickle.dump(Final_Model, open(filename, 'wb'))"
   ]
  },
  {
   "cell_type": "code",
   "execution_count": null,
   "id": "af67ee78",
   "metadata": {},
   "outputs": [],
   "source": [
    "loaded_model = pickle.load(open(filename, 'rb'))\n",
    "result = loaded_model.score(X_test, Y_test)*100\n",
    "print(result)"
   ]
  }
 ],
 "metadata": {
  "kernelspec": {
   "display_name": "Python 3 (ipykernel)",
   "language": "python",
   "name": "python3"
  },
  "language_info": {
   "codemirror_mode": {
    "name": "ipython",
    "version": 3
   },
   "file_extension": ".py",
   "mimetype": "text/x-python",
   "name": "python",
   "nbconvert_exporter": "python",
   "pygments_lexer": "ipython3",
   "version": "3.9.7"
  }
 },
 "nbformat": 4,
 "nbformat_minor": 5
}
